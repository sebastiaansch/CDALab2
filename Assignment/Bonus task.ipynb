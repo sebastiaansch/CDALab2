{
 "cells": [
  {
   "cell_type": "code",
   "execution_count": 76,
   "metadata": {},
   "outputs": [],
   "source": [
    "import pandas as pd\n",
    "import matplotlib.pyplot as plt\n",
    "import seaborn as sns\n",
    "import numpy as np\n",
    "from scipy import stats\n",
    "import statsmodels.api as sm\n",
    "from statsmodels.graphics.api import qqplot\n",
    "from pmdarima.arima import auto_arima\n",
    "import multiprocessing as mp\n",
    "import saxpy\n",
    "from saxpy.sax import sax_via_window\n",
    "from saxpy.alphabet import cuts_for_asize\n",
    "from saxpy.znorm import znorm\n",
    "from saxpy.paa import paa\n",
    "from saxpy.sax import ts_to_string\n",
    "\n",
    "df1 = pd.read_csv(\"data/BATADAL_dataset03.csv\")\n",
    "df2 = pd.read_csv(\"data/BATADAL_dataset04.csv\")\n",
    "df2.columns = df2.columns.str.replace(\" \", \"\")\n",
    "dftest = pd.read_csv(\"data/BATADAL_test_dataset.csv\")"
   ]
  },
  {
   "cell_type": "code",
   "execution_count": 120,
   "metadata": {},
   "outputs": [],
   "source": [
    "data = df2.drop(\"DATETIME\",1)\n",
    "\n",
    "dfy = df2[\"ATT_FLAG\"]\n",
    "dfy = dfy.replace(-999,0)\n",
    "x = []\n",
    "x = pd.DataFrame(x)\n",
    "for index in range(0,len(data.columns)):\n",
    "    indexname = \"{}\".format(data.columns[index])\n",
    "    dat = data[indexname].values\n",
    "    amount_of_levels = 3\n",
    "    window_size = 2\n",
    "\n",
    "    discrete_signal = []\n",
    "    for t in range(len(dat)-window_size):\n",
    "        dat_znorm = znorm(dat[t:t+window_size])\n",
    "        discrete_signal.append(ts_to_string(dat_znorm, cuts_for_asize(amount_of_levels)))\n",
    "\n",
    "    x[indexname] = discrete_signal\n",
    "saxxeddata = x   "
   ]
  },
  {
   "cell_type": "code",
   "execution_count": 121,
   "metadata": {},
   "outputs": [],
   "source": [
    "saxxeddata = saxxeddata.drop(\"ATT_FLAG\",1)"
   ]
  },
  {
   "cell_type": "code",
   "execution_count": 122,
   "metadata": {},
   "outputs": [],
   "source": [
    "# saxxeddata[\"output\"] = dfy\n"
   ]
  },
  {
   "cell_type": "code",
   "execution_count": 123,
   "metadata": {},
   "outputs": [],
   "source": [
    "targets_for_onehot = saxxeddata.columns\n",
    "new_df = pd.DataFrame([])\n",
    "\n",
    "for target in targets_for_onehot:\n",
    "    temp = pd.get_dummies(saxxeddata[target])\n",
    "    new_df = pd.concat([new_df, temp],axis=1)\n",
    "\n"
   ]
  },
  {
   "cell_type": "code",
   "execution_count": 124,
   "metadata": {},
   "outputs": [],
   "source": [
    "import torch\n",
    "import torch.nn as nn"
   ]
  },
  {
   "cell_type": "code",
   "execution_count": 218,
   "metadata": {},
   "outputs": [],
   "source": [
    "dfy = df2[\"ATT_FLAG\"]\n",
    "dfy = dfy.replace(-999,0)\n",
    "x = torch.tensor(df2.drop([\"DATETIME\",\"ATT_FLAG\"],axis=1).values,dtype=torch.float)\n",
    "y = torch.tensor(dfy.values,dtype=torch.float)\n"
   ]
  },
  {
   "cell_type": "code",
   "execution_count": 225,
   "metadata": {},
   "outputs": [
    {
     "name": "stdout",
     "output_type": "stream",
     "text": [
      "epoch:  0  loss:  0.27507609128952026\n",
      "epoch:  1  loss:  0.1527506411075592\n",
      "epoch:  2  loss:  0.07694575935602188\n",
      "epoch:  3  loss:  0.058695994317531586\n",
      "epoch:  4  loss:  0.05399451032280922\n",
      "epoch:  5  loss:  0.052632514387369156\n",
      "epoch:  6  loss:  0.052306465804576874\n",
      "epoch:  7  loss:  0.052275825291872025\n",
      "epoch:  8  loss:  0.05230634659528732\n",
      "epoch:  9  loss:  0.05233980715274811\n"
     ]
    }
   ],
   "source": [
    "var = df2.drop([\"DATETIME\",\"ATT_FLAG\"],axis=1).shape[1]\n",
    "n_in, n_h, n_out, batch_size = var, 10, 1, 5\n",
    "\n",
    "model = nn.Sequential(nn.Linear(n_in, n_h),\n",
    "                     nn.ReLU(),\n",
    "                     nn.Linear(n_h, n_out),\n",
    "                     nn.Sigmoid())\n",
    "criterion = torch.nn.MSELoss()\n",
    "# optimizer = torch.optim.SGD(model.parameters(), lr=0.01)\n",
    "# criterion = torch.nn.NLLLoss()\n",
    "optimizer = torch.optim.Adam(model.parameters(), lr=0.003)\n",
    "for epoch in range(10):\n",
    "    # Forward Propagation\n",
    "    y_pred = model(x)\n",
    "    # Compute and print loss\n",
    "    loss = criterion(y_pred, y)\n",
    "    print('epoch: ', epoch,' loss: ', loss.item())\n",
    "    # Zero the gradients\n",
    "    optimizer.zero_grad()\n",
    "    \n",
    "    # perform a backward pass (backpropagation)\n",
    "    loss.backward()\n",
    "    \n",
    "    # Update the parameters\n",
    "    optimizer.step()"
   ]
  },
  {
   "cell_type": "code",
   "execution_count": 228,
   "metadata": {},
   "outputs": [],
   "source": [
    "which = y_pred[y_pred>0.05]"
   ]
  },
  {
   "cell_type": "code",
   "execution_count": null,
   "metadata": {},
   "outputs": [],
   "source": []
  },
  {
   "cell_type": "code",
   "execution_count": null,
   "metadata": {},
   "outputs": [],
   "source": []
  }
 ],
 "metadata": {
  "kernelspec": {
   "display_name": "Python 3",
   "language": "python",
   "name": "python3"
  },
  "language_info": {
   "codemirror_mode": {
    "name": "ipython",
    "version": 3
   },
   "file_extension": ".py",
   "mimetype": "text/x-python",
   "name": "python",
   "nbconvert_exporter": "python",
   "pygments_lexer": "ipython3",
   "version": "3.7.1"
  }
 },
 "nbformat": 4,
 "nbformat_minor": 2
}
