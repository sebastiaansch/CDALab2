{
 "cells": [
  {
   "cell_type": "code",
   "execution_count": 1,
   "metadata": {},
   "outputs": [],
   "source": [
    "import pandas as pd\n",
    "import matplotlib.pyplot as plt\n",
    "import seaborn as sns\n",
    "import numpy as np\n",
    "from scipy import stats\n",
    "import statsmodels.api as sm\n",
    "from statsmodels.graphics.api import qqplot\n",
    "from pmdarima.arima import auto_arima\n",
    "import multiprocessing as mp\n",
    "import saxpy\n",
    "from saxpy.sax import sax_via_window\n",
    "from saxpy.alphabet import cuts_for_asize\n",
    "from saxpy.znorm import znorm\n",
    "from saxpy.paa import paa\n",
    "from saxpy.sax import ts_to_string\n",
    "\n",
    "df1 = pd.read_csv(\"data/BATADAL_dataset03.csv\")\n",
    "df2 = pd.read_csv(\"data/BATADAL_dataset04.csv\")\n",
    "df2.columns = df2.columns.str.replace(\" \", \"\")\n",
    "dftest = pd.read_csv(\"data/BATADAL_test_dataset.csv\")"
   ]
  },
  {
   "cell_type": "code",
   "execution_count": 2,
   "metadata": {},
   "outputs": [],
   "source": [
    "data = df2.drop(\"DATETIME\",1)\n",
    "\n",
    "dfy = df2[\"ATT_FLAG\"]\n",
    "dfy = dfy.replace(-999,0)\n",
    "x = []\n",
    "x = pd.DataFrame(x)\n",
    "for index in range(0,len(data.columns)):\n",
    "    indexname = \"{}\".format(data.columns[index])\n",
    "    dat = data[indexname].values\n",
    "    amount_of_levels = 3\n",
    "    window_size = 2\n",
    "\n",
    "    discrete_signal = []\n",
    "    for t in range(len(dat)-window_size):\n",
    "        dat_znorm = znorm(dat[t:t+window_size])\n",
    "        discrete_signal.append(ts_to_string(dat_znorm, cuts_for_asize(amount_of_levels)))\n",
    "\n",
    "    x[indexname] = discrete_signal\n",
    "saxxeddata = x   "
   ]
  },
  {
   "cell_type": "code",
   "execution_count": 3,
   "metadata": {},
   "outputs": [],
   "source": [
    "saxxeddata = saxxeddata.drop(\"ATT_FLAG\",1)"
   ]
  },
  {
   "cell_type": "code",
   "execution_count": 4,
   "metadata": {},
   "outputs": [],
   "source": [
    "# saxxeddata[\"output\"] = dfy\n"
   ]
  },
  {
   "cell_type": "code",
   "execution_count": 5,
   "metadata": {},
   "outputs": [],
   "source": [
    "targets_for_onehot = saxxeddata.columns\n",
    "new_df = pd.DataFrame([])\n",
    "\n",
    "for target in targets_for_onehot:\n",
    "    temp = pd.get_dummies(saxxeddata[target])\n",
    "    new_df = pd.concat([new_df, temp],axis=1)\n",
    "\n"
   ]
  },
  {
   "cell_type": "code",
   "execution_count": 6,
   "metadata": {},
   "outputs": [],
   "source": [
    "import torch\n",
    "import torch.nn as nn"
   ]
  },
  {
   "cell_type": "code",
   "execution_count": 78,
   "metadata": {},
   "outputs": [],
   "source": [
    "# dfy = df2[\"ATT_FLAG\"]\n",
    "# dfy = dfy.replace(-999,0)\n",
    "from sklearn.model_selection import train_test_split\n",
    "data= df2\n",
    "datay = dfy\n",
    "data = data.drop(\"DATETIME\",axis=1)\n",
    "data = data.drop(\"ATT_FLAG\",axis=1)\n",
    "xTrain, xTest, yTrain, yTest = train_test_split(data, dfy, test_size = 0.2)\n",
    "xTrain = torch.tensor(xTrain.values,dtype=torch.float)\n",
    "yTrain = torch.tensor(yTrain.values,dtype=torch.float)\n",
    "xTest = torch.tensor(xTest.values,dtype=torch.float)\n",
    "yTest = torch.tensor(yTest.values,dtype=torch.float)\n"
   ]
  },
  {
   "cell_type": "code",
   "execution_count": 79,
   "metadata": {},
   "outputs": [
    {
     "name": "stdout",
     "output_type": "stream",
     "text": [
      "Round:  0  train loss:  0.9338602423667908\n",
      "test loss:  0.9479416608810425\n",
      "Round:  1  train loss:  0.8019454479217529\n",
      "test loss:  0.8054431080818176\n",
      "Round:  2  train loss:  0.3747739791870117\n",
      "test loss:  0.37959760427474976\n",
      "Round:  3  train loss:  0.06954064965248108\n",
      "test loss:  0.05962185561656952\n",
      "Round:  4  train loss:  0.054129745811223984\n",
      "test loss:  0.03859209269285202\n",
      "Round:  5  train loss:  0.055215414613485336\n",
      "test loss:  0.039170555770397186\n",
      "Round:  6  train loss:  0.055550798773765564\n",
      "test loss:  0.03939159959554672\n",
      "Round:  7  train loss:  0.05563797056674957\n",
      "test loss:  0.039450496435165405\n",
      "Round:  8  train loss:  0.055660806596279144\n",
      "test loss:  0.03946603089570999\n",
      "Round:  9  train loss:  0.055667705833911896\n",
      "test loss:  0.03947075083851814\n"
     ]
    }
   ],
   "source": [
    "\n",
    "var = df2.drop([\"DATETIME\",\"ATT_FLAG\"],axis=1).shape[1]\n",
    "n_in, n_h, n_out, batch_size = var, 10, 1, 5\n",
    "\n",
    "model = nn.Sequential(nn.Linear(n_in, n_h),\n",
    "                     nn.ReLU(),\n",
    "                     nn.Linear(n_h, n_out),\n",
    "                     nn.Sigmoid())\n",
    "criterion = torch.nn.MSELoss()\n",
    "# optimizer = torch.optim.SGD(model.parameters(), lr=0.01)\n",
    "# criterion = torch.nn.NLLLoss()\n",
    "optimizer = torch.optim.Adam(model.parameters(), lr=0.005)\n",
    "lossgraph = []\n",
    "testlossgraph=[]\n",
    "for epoch in range(10):\n",
    "    # Forward Propagation\n",
    "    y_pred = model(xTrain)\n",
    "    y_pred_test = model(xTest)\n",
    "    # Compute and print loss\n",
    "    loss = criterion(y_pred, yTrain)\n",
    "    testloss = criterion(y_pred_test,yTest)\n",
    "    print('Round: ', epoch,' train loss: ', loss.item())\n",
    "    print(\"test loss: \", testloss.item())\n",
    "    \n",
    "    lossgraph.append(float(loss))\n",
    "    testlossgraph.append(float(testloss))\n",
    "    # Zero the gradients\n",
    "    optimizer.zero_grad()\n",
    "    \n",
    "    # perform a backward pass (backpropagation)\n",
    "    loss.backward()\n",
    "    \n",
    "    # Update the parameters\n",
    "    optimizer.step()"
   ]
  },
  {
   "cell_type": "code",
   "execution_count": 93,
   "metadata": {},
   "outputs": [
    {
     "name": "stderr",
     "output_type": "stream",
     "text": [
      "No handles with labels found to put in legend.\n"
     ]
    },
    {
     "data": {
      "text/plain": [
       "<matplotlib.legend.Legend at 0x1315365c0>"
      ]
     },
     "execution_count": 93,
     "metadata": {},
     "output_type": "execute_result"
    },
    {
     "data": {
      "image/png": "[encoded data removed]",
      "text/plain": [
       "<Figure size 432x288 with 1 Axes>"
      ]
     },
     "metadata": {
      "needs_background": "light"
     },
     "output_type": "display_data"
    }
   ],
   "source": [
    "plt.plot(lossgraph)\n",
    "plt.plot(testlossgraph)\n",
    "plt.title(\"Loss on test set and training set\")\n",
    "plt.legend()"
   ]
  },
  {
   "cell_type": "code",
   "execution_count": null,
   "metadata": {},
   "outputs": [],
   "source": []
  },
  {
   "cell_type": "code",
   "execution_count": 51,
   "metadata": {},
   "outputs": [
    {
     "data": {
      "text/plain": [
       "tensor([[3.6255e-06],\n",
       "        [1.5149e-06],\n",
       "        [3.8671e-06],\n",
       "        ...,\n",
       "        [6.5734e-06],\n",
       "        [1.4207e-04],\n",
       "        [6.1290e-07]], grad_fn=<SigmoidBackward>)"
      ]
     },
     "execution_count": 51,
     "metadata": {},
     "output_type": "execute_result"
    }
   ],
   "source": [
    "y_pred"
   ]
  },
  {
   "cell_type": "code",
   "execution_count": null,
   "metadata": {},
   "outputs": [],
   "source": []
  }
 ],
 "metadata": {
  "kernelspec": {
   "display_name": "Python 3",
   "language": "python",
   "name": "python3"
  },
  "language_info": {
   "codemirror_mode": {
    "name": "ipython",
    "version": 3
   },
   "file_extension": ".py",
   "mimetype": "text/x-python",
   "name": "python",
   "nbconvert_exporter": "python",
   "pygments_lexer": "ipython3",
   "version": "3.7.1"
  }
 },
 "nbformat": 4,
 "nbformat_minor": 2
}
