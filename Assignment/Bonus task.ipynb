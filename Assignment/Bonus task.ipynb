{
 "cells": [
  {
   "cell_type": "code",
   "execution_count": 270,
   "metadata": {},
   "outputs": [],
   "source": [
    "import pandas as pd\n",
    "import matplotlib.pyplot as plt\n",
    "import seaborn as sns\n",
    "import numpy as np\n",
    "from scipy import stats\n",
    "import statsmodels.api as sm\n",
    "from statsmodels.graphics.api import qqplot\n",
    "from pmdarima.arima import auto_arima\n",
    "import multiprocessing as mp\n",
    "import saxpy\n",
    "from saxpy.sax import sax_via_window\n",
    "from saxpy.alphabet import cuts_for_asize\n",
    "from saxpy.znorm import znorm\n",
    "from saxpy.paa import paa\n",
    "from saxpy.sax import ts_to_string\n",
    "\n",
    "df1 = pd.read_csv(\"data/BATADAL_dataset03.csv\")\n",
    "df2 = pd.read_csv(\"data/BATADAL_dataset04.csv\")\n",
    "df2.columns = df2.columns.str.replace(\" \", \"\")\n",
    "dftest = pd.read_csv(\"data/BATADAL_test_dataset.csv\")"
   ]
  },
  {
   "cell_type": "code",
   "execution_count": 271,
   "metadata": {},
   "outputs": [],
   "source": [
    "data = df2.drop(\"DATETIME\",1)\n",
    "\n",
    "dfy = df2[\"ATT_FLAG\"]\n",
    "dfy = dfy.replace(-999,0)\n",
    "x = []\n",
    "x = pd.DataFrame(x)\n",
    "for index in range(0,len(data.columns)):\n",
    "    indexname = \"{}\".format(data.columns[index])\n",
    "    dat = data[indexname].values\n",
    "    amount_of_levels = 3\n",
    "    window_size = 2\n",
    "\n",
    "    discrete_signal = []\n",
    "    for t in range(len(dat)-window_size):\n",
    "        dat_znorm = znorm(dat[t:t+window_size])\n",
    "        discrete_signal.append(ts_to_string(dat_znorm, cuts_for_asize(amount_of_levels)))\n",
    "\n",
    "    x[indexname] = discrete_signal\n",
    "saxxeddata = x   "
   ]
  },
  {
   "cell_type": "code",
   "execution_count": 272,
   "metadata": {},
   "outputs": [],
   "source": [
    "saxxeddata = saxxeddata.drop(\"ATT_FLAG\",1)"
   ]
  },
  {
   "cell_type": "code",
   "execution_count": 273,
   "metadata": {},
   "outputs": [],
   "source": [
    "# saxxeddata[\"output\"] = dfy\n"
   ]
  },
  {
   "cell_type": "code",
   "execution_count": 274,
   "metadata": {},
   "outputs": [],
   "source": [
    "targets_for_onehot = saxxeddata.columns\n",
    "new_df = pd.DataFrame([])\n",
    "\n",
    "for target in targets_for_onehot:\n",
    "    temp = pd.get_dummies(saxxeddata[target])\n",
    "    new_df = pd.concat([new_df, temp],axis=1)\n",
    "\n"
   ]
  },
  {
   "cell_type": "code",
   "execution_count": 275,
   "metadata": {},
   "outputs": [],
   "source": [
    "import torch\n",
    "import torch.nn as nn"
   ]
  },
  {
   "cell_type": "code",
   "execution_count": 276,
   "metadata": {},
   "outputs": [],
   "source": [
    "# dfy = df2[\"ATT_FLAG\"]\n",
    "# dfy = dfy.replace(-999,0)\n",
    "from sklearn.model_selection import train_test_split\n",
    "data= df2\n",
    "datay = dfy\n",
    "data = data.drop(\"DATETIME\",axis=1)\n",
    "data = data.drop(\"ATT_FLAG\",axis=1)\n",
    "xTrain, xTest, yTrain, yTest = train_test_split(data, dfy, test_size = 0.2)\n",
    "xTrain = torch.tensor(xTrain.values,dtype=torch.float)\n",
    "yTrain = torch.tensor(yTrain.values,dtype=torch.float)\n",
    "xTest = torch.tensor(xTest.values,dtype=torch.float)\n",
    "yTest = torch.tensor(yTest.values,dtype=torch.float)\n"
   ]
  },
  {
   "cell_type": "code",
   "execution_count": 283,
   "metadata": {},
   "outputs": [
    {
     "name": "stdout",
     "output_type": "stream",
     "text": [
      "Round:  0  train loss:  0.1731823831796646\n",
      "test loss:  0.16720716655254364\n",
      "Round:  1  train loss:  0.1691511869430542\n",
      "test loss:  0.16338135302066803\n",
      "Round:  2  train loss:  0.16529305279254913\n",
      "test loss:  0.15973451733589172\n",
      "Round:  3  train loss:  0.16160549223423004\n",
      "test loss:  0.15623770654201508\n",
      "Round:  4  train loss:  0.15808266401290894\n",
      "test loss:  0.15288467705249786\n",
      "Round:  5  train loss:  0.15470726788043976\n",
      "test loss:  0.14967751502990723\n",
      "Round:  6  train loss:  0.15146109461784363\n",
      "test loss:  0.14659292995929718\n",
      "Round:  7  train loss:  0.14831727743148804\n",
      "test loss:  0.14362740516662598\n",
      "Round:  8  train loss:  0.1452508121728897\n",
      "test loss:  0.14075176417827606\n",
      "Round:  9  train loss:  0.14225028455257416\n",
      "test loss:  0.1379109025001526\n",
      "Round:  10  train loss:  0.13932345807552338\n",
      "test loss:  0.13514161109924316\n",
      "Round:  11  train loss:  0.13647568225860596\n",
      "test loss:  0.1324581503868103\n",
      "Round:  12  train loss:  0.13369889557361603\n",
      "test loss:  0.12985746562480927\n",
      "Round:  13  train loss:  0.13100284337997437\n",
      "test loss:  0.1273207664489746\n",
      "Round:  14  train loss:  0.1283818781375885\n",
      "test loss:  0.12485714256763458\n",
      "Round:  15  train loss:  0.12583397328853607\n",
      "test loss:  0.1224471777677536\n",
      "Round:  16  train loss:  0.12335259467363358\n",
      "test loss:  0.12010309100151062\n",
      "Round:  17  train loss:  0.12094367295503616\n",
      "test loss:  0.11781126260757446\n",
      "Round:  18  train loss:  0.11860824376344681\n",
      "test loss:  0.11558035016059875\n",
      "Round:  19  train loss:  0.11633777618408203\n",
      "test loss:  0.11340106278657913\n",
      "Round:  20  train loss:  0.11413213610649109\n",
      "test loss:  0.11127297580242157\n",
      "Round:  21  train loss:  0.11198431253433228\n",
      "test loss:  0.10919097065925598\n",
      "Round:  22  train loss:  0.10989350825548172\n",
      "test loss:  0.1071605458855629\n",
      "Round:  23  train loss:  0.10785363614559174\n",
      "test loss:  0.10518521815538406\n",
      "Round:  24  train loss:  0.10585739463567734\n",
      "test loss:  0.10326491296291351\n",
      "Round:  25  train loss:  0.10391674190759659\n",
      "test loss:  0.10138950496912003\n",
      "Round:  26  train loss:  0.10203063488006592\n",
      "test loss:  0.09956149011850357\n",
      "Round:  27  train loss:  0.10019872337579727\n",
      "test loss:  0.09777910262346268\n",
      "Round:  28  train loss:  0.09842493385076523\n",
      "test loss:  0.09603732079267502\n",
      "Round:  29  train loss:  0.09670890867710114\n",
      "test loss:  0.09434174746274948\n",
      "Round:  30  train loss:  0.09504640102386475\n",
      "test loss:  0.09268572926521301\n",
      "Round:  31  train loss:  0.09343677014112473\n",
      "test loss:  0.09107702970504761\n",
      "Round:  32  train loss:  0.09187992662191391\n",
      "test loss:  0.08951034396886826\n",
      "Round:  33  train loss:  0.09037475287914276\n",
      "test loss:  0.08798596262931824\n",
      "Round:  34  train loss:  0.08892078697681427\n",
      "test loss:  0.08650758862495422\n",
      "Round:  35  train loss:  0.08751187473535538\n",
      "test loss:  0.0850662887096405\n",
      "Round:  36  train loss:  0.08615178614854813\n",
      "test loss:  0.08366943895816803\n",
      "Round:  37  train loss:  0.08484233170747757\n",
      "test loss:  0.08231838047504425\n",
      "Round:  38  train loss:  0.08358044177293777\n",
      "test loss:  0.08101626485586166\n",
      "Round:  39  train loss:  0.08235879987478256\n",
      "test loss:  0.07975638657808304\n",
      "Round:  40  train loss:  0.08117551356554031\n",
      "test loss:  0.07852044701576233\n",
      "Round:  41  train loss:  0.08003302663564682\n",
      "test loss:  0.07731646299362183\n",
      "Round:  42  train loss:  0.07893192023038864\n",
      "test loss:  0.076150082051754\n",
      "Round:  43  train loss:  0.07787365466356277\n",
      "test loss:  0.07502861320972443\n",
      "Round:  44  train loss:  0.07685115933418274\n",
      "test loss:  0.07395174354314804\n",
      "Round:  45  train loss:  0.07587137818336487\n",
      "test loss:  0.0729135125875473\n",
      "Round:  46  train loss:  0.07493524998426437\n",
      "test loss:  0.07191115617752075\n",
      "Round:  47  train loss:  0.07404053211212158\n",
      "test loss:  0.07094395160675049\n",
      "Round:  48  train loss:  0.07318583130836487\n",
      "test loss:  0.07001461833715439\n",
      "Round:  49  train loss:  0.07237140834331512\n",
      "test loss:  0.06912582367658615\n"
     ]
    }
   ],
   "source": [
    "\n",
    "var = df2.drop([\"DATETIME\",\"ATT_FLAG\"],axis=1).shape[1]\n",
    "n_in, n_h, n_out, batch_size = var, 5, 1, 5\n",
    "\n",
    "model = nn.Sequential(nn.Linear(n_in, n_h),\n",
    "                     nn.ReLU(),\n",
    "                     nn.Linear(n_h, n_out),\n",
    "                     nn.Sigmoid())\n",
    "criterion = torch.nn.MSELoss()\n",
    "# optimizer = torch.optim.SGD(model.parameters(), lr=0.01)\n",
    "# criterion = torch.nn.NLLLoss()\n",
    "optimizer = torch.optim.Adam(model.parameters(), lr=0.0001)\n",
    "lossgraph = []\n",
    "testlossgraph=[]\n",
    "for epoch in range(50):\n",
    "    # Forward Propagation\n",
    "    y_pred = model(xTrain)\n",
    "    y_pred_test = model(xTest)\n",
    "    # Compute and print loss\n",
    "    loss = criterion(y_pred, yTrain)\n",
    "    testloss = criterion(y_pred_test,yTest)\n",
    "    print('Round: ', epoch,' train loss: ', loss.item())\n",
    "    print(\"test loss: \", testloss.item())\n",
    "    \n",
    "    lossgraph.append(float(loss))\n",
    "    testlossgraph.append(float(testloss))\n",
    "    # Zero the gradients\n",
    "    optimizer.zero_grad()\n",
    "    \n",
    "    # perform a backward pass (backpropagation)\n",
    "    loss.backward()\n",
    "    \n",
    "    # Update the parameters\n",
    "    optimizer.step()"
   ]
  },
  {
   "cell_type": "code",
   "execution_count": 284,
   "metadata": {},
   "outputs": [
    {
     "data": {
      "text/plain": [
       "<matplotlib.legend.Legend at 0x1263dc160>"
      ]
     },
     "execution_count": 284,
     "metadata": {},
     "output_type": "execute_result"
    },
    {
     "data": {
      "image/png": "[encoded data removed]",
      "text/plain": [
       "<Figure size 432x288 with 1 Axes>"
      ]
     },
     "metadata": {
      "needs_background": "light"
     },
     "output_type": "display_data"
    }
   ],
   "source": [
    "plt.plot(lossgraph,label=\"training loss\")\n",
    "plt.plot(testlossgraph,label=\"test loss\")\n",
    "plt.title(\"Loss on test set and training set\")\n",
    "plt.xlabel(\"epoch\")\n",
    "plt.ylabel(\"loss\")\n",
    "plt.legend()"
   ]
  },
  {
   "cell_type": "code",
   "execution_count": null,
   "metadata": {},
   "outputs": [],
   "source": []
  },
  {
   "cell_type": "code",
   "execution_count": 285,
   "metadata": {},
   "outputs": [],
   "source": [
    "results= []\n",
    "labels = []\n",
    "for i in range(0,len(y_pred_test)):\n",
    "    label = float(yTest[i])\n",
    "    labels.append(label)\n",
    "    prediction = float(y_pred_test[i])\n",
    "    results.append(prediction)"
   ]
  },
  {
   "cell_type": "code",
   "execution_count": 290,
   "metadata": {},
   "outputs": [
    {
     "data": {
      "text/html": [
       "<div>\n",
       "<style scoped>\n",
       "    .dataframe tbody tr th:only-of-type {\n",
       "        vertical-align: middle;\n",
       "    }\n",
       "\n",
       "    .dataframe tbody tr th {\n",
       "        vertical-align: top;\n",
       "    }\n",
       "\n",
       "    .dataframe thead th {\n",
       "        text-align: right;\n",
       "    }\n",
       "</style>\n",
       "<table border=\"1\" class=\"dataframe\">\n",
       "  <thead>\n",
       "    <tr style=\"text-align: right;\">\n",
       "      <th></th>\n",
       "      <th>0</th>\n",
       "      <th>labels</th>\n",
       "    </tr>\n",
       "  </thead>\n",
       "  <tbody>\n",
       "    <tr>\n",
       "      <th>0</th>\n",
       "      <td>0.000675</td>\n",
       "      <td>0.0</td>\n",
       "    </tr>\n",
       "    <tr>\n",
       "      <th>1</th>\n",
       "      <td>0.046628</td>\n",
       "      <td>0.0</td>\n",
       "    </tr>\n",
       "    <tr>\n",
       "      <th>2</th>\n",
       "      <td>0.014012</td>\n",
       "      <td>0.0</td>\n",
       "    </tr>\n",
       "    <tr>\n",
       "      <th>3</th>\n",
       "      <td>0.527463</td>\n",
       "      <td>0.0</td>\n",
       "    </tr>\n",
       "    <tr>\n",
       "      <th>4</th>\n",
       "      <td>0.004630</td>\n",
       "      <td>0.0</td>\n",
       "    </tr>\n",
       "  </tbody>\n",
       "</table>\n",
       "</div>"
      ],
      "text/plain": [
       "          0  labels\n",
       "0  0.000675     0.0\n",
       "1  0.046628     0.0\n",
       "2  0.014012     0.0\n",
       "3  0.527463     0.0\n",
       "4  0.004630     0.0"
      ]
     },
     "execution_count": 290,
     "metadata": {},
     "output_type": "execute_result"
    }
   ],
   "source": [
    "results = pd.DataFrame(results)\n",
    "results.head()"
   ]
  },
  {
   "cell_type": "code",
   "execution_count": 291,
   "metadata": {},
   "outputs": [],
   "source": [
    "results[\"labels\"] = pd.DataFrame(labels)"
   ]
  },
  {
   "cell_type": "code",
   "execution_count": 315,
   "metadata": {},
   "outputs": [
    {
     "name": "stdout",
     "output_type": "stream",
     "text": [
      "Precision is:  0.050239234449760764\n",
      "Recall is:  0.38095238095238093\n"
     ]
    }
   ],
   "source": [
    "\n",
    "average = results[0].sum()/len(results)\n",
    "precision = results[\"labels\"].sum()/len(labels)\n",
    "\n",
    "classified = results[results[0] > average]\n",
    "classified = classified[\"labels\"].sum()\n",
    "recall = classified/results[\"labels\"].sum()\n",
    "\n",
    "print(\"Precision is: \", precision)\n",
    "print(\"Recall is: \", recall)"
   ]
  },
  {
   "cell_type": "markdown",
   "metadata": {},
   "source": []
  },
  {
   "cell_type": "code",
   "execution_count": null,
   "metadata": {},
   "outputs": [],
   "source": []
  },
  {
   "cell_type": "code",
   "execution_count": null,
   "metadata": {},
   "outputs": [],
   "source": []
  },
  {
   "cell_type": "code",
   "execution_count": null,
   "metadata": {},
   "outputs": [],
   "source": []
  }
 ],
 "metadata": {
  "kernelspec": {
   "display_name": "Python 3",
   "language": "python",
   "name": "python3"
  },
  "language_info": {
   "codemirror_mode": {
    "name": "ipython",
    "version": 3
   },
   "file_extension": ".py",
   "mimetype": "text/x-python",
   "name": "python",
   "nbconvert_exporter": "python",
   "pygments_lexer": "ipython3",
   "version": "3.7.1"
  }
 },
 "nbformat": 4,
 "nbformat_minor": 2
}
