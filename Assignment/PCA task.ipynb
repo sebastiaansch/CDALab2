{
 "cells": [
  {
   "cell_type": "code",
   "execution_count": 1,
   "metadata": {},
   "outputs": [],
   "source": [
    "import pandas as pd\n",
    "import matplotlib.pyplot as plt\n",
    "import seaborn as sns\n",
    "import numpy as np\n",
    "from sklearn.decomposition import PCA\n",
    "from sklearn.preprocessing import StandardScaler\n",
    "from sklearn.metrics import roc_curve, auc, roc_auc_score\n",
    "from sklearn.metrics import precision_recall_curve, average_precision_score\n",
    "from sklearn import preprocessing as pp"
   ]
  },
  {
   "cell_type": "code",
   "execution_count": 2,
   "metadata": {},
   "outputs": [],
   "source": [
    "#preprocessing data for PCA\n",
    "df1 = pd.read_csv(\"data/BATADAL_dataset03.csv\")\n",
    "df2 = pd.read_csv(\"data/BATADAL_dataset04.csv\")\n",
    "dftest = pd.read_csv(\"data/BATADAL_test_dataset.csv\")\n",
    "dfy = df2[\" ATT_FLAG\"]\n",
    "dfy = dfy.replace(-999,0)\n",
    "df2 = df2.drop(\" ATT_FLAG\",axis=1)\n",
    "df2 = df2.drop(\"DATETIME\",axis=1)\n",
    "featuresToScale = df2.columns\n",
    "sX = StandardScaler(copy=True)\n",
    "df2.loc[:,featuresToScale] = sX.fit_transform(df2[featuresToScale])\n"
   ]
  },
  {
   "cell_type": "code",
   "execution_count": 3,
   "metadata": {},
   "outputs": [],
   "source": [
    "def anomalyScores(originalDF, reducedDF):\n",
    "    loss = np.sum((np.array(originalDF)-np.array(reducedDF))**2, axis=1)\n",
    "    loss = pd.Series(data=loss,index=originalDF.index)\n",
    "    loss = (loss-np.min(loss))/(np.max(loss)-np.min(loss))\n",
    "    return loss"
   ]
  },
  {
   "cell_type": "code",
   "execution_count": 4,
   "metadata": {},
   "outputs": [],
   "source": [
    "#run pca on desired amount of components\n",
    "n_components = 4\n",
    "testdata = df2\n",
    "def pcatest(n_components):\n",
    "    pca = PCA(n_components=n_components)\n",
    "\n",
    "    X_train_PCA = pca.fit_transform(testdata)\n",
    "    X_train_PCA = pd.DataFrame(data=X_train_PCA, index=testdata.index)\n",
    "\n",
    "    X_train_PCA_inverse = pca.inverse_transform(X_train_PCA)\n",
    "    X_train_PCA_inverse = pd.DataFrame(data=X_train_PCA_inverse, index=testdata.index)\n",
    "    return X_train_PCA_inverse,X_train_PCA\n",
    "X_train_PCA_inverse, X_train_PCA = pcatest(n_components)\n",
    "\n"
   ]
  },
  {
   "cell_type": "code",
   "execution_count": 5,
   "metadata": {},
   "outputs": [],
   "source": [
    "anomalyScoresPCA = anomalyScores(testdata, X_train_PCA_inverse)"
   ]
  },
  {
   "cell_type": "code",
   "execution_count": 6,
   "metadata": {},
   "outputs": [
    {
     "name": "stdout",
     "output_type": "stream",
     "text": [
      "Precision:  0.84\n",
      "Recall:  0.38\n",
      "True positive:  84\n",
      "False positive:  16\n"
     ]
    }
   ],
   "source": [
    "preds = pd.concat([dfy, anomalyScoresPCA], axis=1)\n",
    "preds.columns = ['trueLabel', 'anomalyScore']\n",
    "preds.sort_values(by=\"anomalyScore\",ascending=False,inplace=True)\n",
    "cutoff = 100\n",
    "predsTop = preds[:cutoff]\n",
    "TP= predsTop.anomalyScore[predsTop.trueLabel==1].count()\n",
    "FP= cutoff-TP\n",
    "print(\"Precision: \",np.round(predsTop.anomalyScore[predsTop.trueLabel==1].count()/cutoff,2))\n",
    "print(\"Recall: \",np.round(predsTop.anomalyScore[predsTop.trueLabel==1].count()/dfy.sum(),2))\n",
    "print(\"True positive: \", TP)\n",
    "print(\"False positive: \", FP)"
   ]
  },
  {
   "cell_type": "code",
   "execution_count": null,
   "metadata": {},
   "outputs": [],
   "source": []
  },
  {
   "cell_type": "code",
   "execution_count": null,
   "metadata": {},
   "outputs": [],
   "source": []
  },
  {
   "cell_type": "code",
   "execution_count": null,
   "metadata": {},
   "outputs": [],
   "source": []
  },
  {
   "cell_type": "code",
   "execution_count": null,
   "metadata": {},
   "outputs": [],
   "source": []
  },
  {
   "cell_type": "code",
   "execution_count": null,
   "metadata": {},
   "outputs": [],
   "source": []
  }
 ],
 "metadata": {
  "kernelspec": {
   "display_name": "Python 3",
   "language": "python",
   "name": "python3"
  },
  "language_info": {
   "codemirror_mode": {
    "name": "ipython",
    "version": 3
   },
   "file_extension": ".py",
   "mimetype": "text/x-python",
   "name": "python",
   "nbconvert_exporter": "python",
   "pygments_lexer": "ipython3",
   "version": "3.7.1"
  }
 },
 "nbformat": 4,
 "nbformat_minor": 2
}
