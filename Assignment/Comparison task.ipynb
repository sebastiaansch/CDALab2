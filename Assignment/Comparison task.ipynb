{
 "cells": [
  {
   "cell_type": "code",
   "execution_count": 2,
   "metadata": {},
   "outputs": [],
   "source": [
    "import pandas as pd\n",
    "import matplotlib.pyplot as plt\n",
    "import seaborn as sns\n",
    "import numpy as np\n",
    "from scipy import stats\n",
    "import statsmodels.api as sm\n",
    "from statsmodels.graphics.api import qqplot\n",
    "import pmdarima as pm\n",
    "import saxpy\n",
    "import nltk\n",
    "from nltk import bigrams\n",
    "from nltk import trigrams\n",
    "from saxpy.sax import sax_via_window\n",
    "from saxpy.sax import sax_via_window\n",
    "from saxpy.alphabet import cuts_for_asize\n",
    "from saxpy.znorm import znorm\n",
    "from saxpy.paa import paa\n",
    "from saxpy.sax import ts_to_string\n",
    "from sklearn.decomposition import PCA\n",
    "from sklearn.preprocessing import StandardScaler\n",
    "from sklearn.metrics import roc_curve, auc, roc_auc_score\n",
    "from sklearn.metrics import precision_recall_curve, average_precision_score\n",
    "from sklearn import preprocessing as pp\n",
    "\n",
    "sns.set(rc={'figure.figsize':(11.7,8.27)})\n",
    "\n",
    "## Reading the datasets\n",
    "\n",
    "df1 = pd.read_csv(\"data/BATADAL_dataset03.csv\")\n",
    "df2 = pd.read_csv(\"data/BATADAL_dataset04.csv\")\n",
    "df2.columns = df2.columns.str.replace(\" \", \"\")\n",
    "dftest = pd.read_csv(\"data/BATADAL_test_dataset.csv\")"
   ]
  },
  {
   "cell_type": "code",
   "execution_count": 3,
   "metadata": {},
   "outputs": [],
   "source": [
    "## Add the right attack flags\n",
    "new_attack_df2 = df2[['DATETIME', 'ATT_FLAG']].copy().set_index(\"DATETIME\")\n",
    "new_attack_df2['ATT_FLAG'] = 0\n",
    "\n",
    "attack_points = [\n",
    "    [\"13/09/16 23\", \"16/09/16 00\"],\n",
    "    [\"26/09/16 11\", \"27/09/16 10\"],\n",
    "    [\"09/10/16 09\", \"11/10/16 20\"],\n",
    "    [\"29/10/16 19\", \"02/11/16 16\"],\n",
    "    [\"26/11/16 17\", \"29/11/16 04\"],\n",
    "    [\"06/12/16 07\", \"10/12/16 04\"],\n",
    "    [\"14/12/16 15\", \"19/12/16 04\"]\n",
    "]\n",
    "\n",
    "for attack_point in attack_points:\n",
    "    new_attack_df2.loc[attack_point[0]:attack_point[1], 'ATT_FLAG'] = 1\n",
    "    \n",
    "new_attack_df2.reset_index(inplace=True)\n",
    "\n",
    "new_attack_df_test = dftest[['DATETIME']].copy().set_index(\"DATETIME\")\n",
    "new_attack_df_test['ATT_FLAG'] = 0\n",
    "\n",
    "attack_points = [\n",
    "    [\"16/01/17 09\", \"19/01/17 06\"],\n",
    "    [\"30/01/17 08\", \"02/02/17 00\"],\n",
    "    [\"09/02/17 03\", \"10/02/17 09\"],\n",
    "    [\"12/02/17 01\", \"13/02/17 07\"],\n",
    "    [\"24/02/17 05\", \"28/02/17 08\"],\n",
    "    [\"10/03/17 14\", \"13/03/17 21\"],\n",
    "    [\"25/03/17 20\", \"27/03/17 01\"]\n",
    "]\n",
    "\n",
    "for attack_point in attack_points:\n",
    "    new_attack_df_test.loc[attack_point[0]:attack_point[1], 'ATT_FLAG'] = 1\n",
    "    \n",
    "new_attack_df_test.reset_index(inplace=True)\n",
    "\n",
    "df2['ATT_FLAG'] = new_attack_df2['ATT_FLAG']\n",
    "dftest['ATT_FLAG'] = new_attack_df_test['ATT_FLAG']"
   ]
  },
  {
   "cell_type": "code",
   "execution_count": 4,
   "metadata": {},
   "outputs": [],
   "source": [
    "def predict_ARMA(training_features, features):\\\n",
    "    return None"
   ]
  },
  {
   "cell_type": "code",
   "execution_count": 5,
   "metadata": {},
   "outputs": [],
   "source": [
    "def predict_Discrete(training_features, test_features):\n",
    "    return None"
   ]
  },
  {
   "cell_type": "code",
   "execution_count": 32,
   "metadata": {},
   "outputs": [],
   "source": [
    "def anomalyScores(originalDF, reducedDF):\n",
    "    loss = np.sum((np.array(originalDF)-np.array(reducedDF))**2, axis=1)\n",
    "    loss = pd.Series(data=loss,index=originalDF.index)\n",
    "    loss = (loss-np.min(loss))/(np.max(loss)-np.min(loss))\n",
    "    return loss\n",
    "\n",
    "def pcatest(n_components, traindata, testdata):\n",
    "    pca = PCA(n_components=n_components)\n",
    "\n",
    "    X_train_PCA = pca.fit_transform(traindata)\n",
    "    X_test_PCAd = pd.DataFrame(data=pca.transform(testdata), index=testdata.index)\n",
    "\n",
    "    X_test_PCAd_inverse = pca.inverse_transform(X_test_PCAd)\n",
    "    X_test_PCAd_inverse = pd.DataFrame(data=X_test_PCAd_inverse, index=testdata.index)\n",
    "    return X_test_PCAd_inverse,X_test_PCAd\n",
    "\n",
    "def predict_PCA(training_features, test_features):\n",
    "    n_components = 4\n",
    "    \n",
    "    X_test_PCAd_inverse, X_test_PCAd = pcatest(n_components,training_features,test_features)\n",
    "    anomalyScoresPCA = anomalyScores(test_features, X_test_PCAd_inverse)\n",
    "    \n",
    "    threshold = 0.3\n",
    "    return anomalyScoresPCA > threshold"
   ]
  },
  {
   "cell_type": "code",
   "execution_count": 33,
   "metadata": {},
   "outputs": [],
   "source": [
    "train_df = df2[df2[\"ATT_FLAG\"]==0].drop(columns=[\"DATETIME\", \"ATT_FLAG\"])\n",
    "test_df = dftest.drop(columns=[\"DATETIME\", \"ATT_FLAG\"])\n",
    "train_labels = df2['ATT_FLAG']\n",
    "test_labels = dftest['ATT_FLAG']"
   ]
  },
  {
   "cell_type": "code",
   "execution_count": 34,
   "metadata": {},
   "outputs": [
    {
     "data": {
      "text/plain": [
       "<matplotlib.axes._subplots.AxesSubplot at 0x7fe84f0e4400>"
      ]
     },
     "execution_count": 34,
     "metadata": {},
     "output_type": "execute_result"
    },
    {
     "data": {
      "image/png": "[encoded data removed]",
      "text/plain": [
       "<Figure size 432x288 with 1 Axes>"
      ]
     },
     "metadata": {
      "needs_background": "light"
     },
     "output_type": "display_data"
    }
   ],
   "source": [
    "## PCA predictions\n",
    "\n",
    "fig, ax = plt.subplots()\n",
    "sns.lineplot(data=predict_PCA(train_df, test_df), ax=ax)\n",
    "sns.lineplot(data=test_labels*1.2, ax=ax)"
   ]
  },
  {
   "cell_type": "code",
   "execution_count": null,
   "metadata": {},
   "outputs": [],
   "source": []
  },
  {
   "cell_type": "code",
   "execution_count": null,
   "metadata": {},
   "outputs": [],
   "source": []
  }
 ],
 "metadata": {
  "kernelspec": {
   "display_name": "Python 3",
   "language": "python",
   "name": "python3"
  },
  "language_info": {
   "codemirror_mode": {
    "name": "ipython",
    "version": 3
   },
   "file_extension": ".py",
   "mimetype": "text/x-python",
   "name": "python",
   "nbconvert_exporter": "python",
   "pygments_lexer": "ipython3",
   "version": "3.7.1"
  }
 },
 "nbformat": 4,
 "nbformat_minor": 2
}
