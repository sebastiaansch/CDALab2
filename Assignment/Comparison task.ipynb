{
 "cells": [
  {
   "cell_type": "code",
   "execution_count": 2,
   "metadata": {},
   "outputs": [],
   "source": [
    "import pandas as pd\n",
    "import matplotlib.pyplot as plt\n",
    "import seaborn as sns\n",
    "import numpy as np\n",
    "from scipy import stats\n",
    "import statsmodels.api as sm\n",
    "from statsmodels.graphics.api import qqplot\n",
    "import pmdarima as pm\n",
    "import saxpy\n",
    "import nltk\n",
    "from nltk import bigrams\n",
    "from nltk import trigrams\n",
    "from saxpy.sax import sax_via_window\n",
    "from saxpy.sax import sax_via_window\n",
    "from saxpy.alphabet import cuts_for_asize\n",
    "from saxpy.znorm import znorm\n",
    "from saxpy.paa import paa\n",
    "from saxpy.sax import ts_to_string\n",
    "from sklearn.decomposition import PCA\n",
    "from sklearn.preprocessing import StandardScaler\n",
    "from sklearn.metrics import roc_curve, auc, roc_auc_score\n",
    "from sklearn.metrics import precision_recall_curve, average_precision_score\n",
    "from sklearn import preprocessing as pp\n",
    "\n",
    "sns.set(rc={'figure.figsize':(11.7,8.27)})\n",
    "\n",
    "## Reading the datasets\n",
    "\n",
    "df1 = pd.read_csv(\"data/BATADAL_dataset03.csv\")\n",
    "df2 = pd.read_csv(\"data/BATADAL_dataset04.csv\")\n",
    "df2.columns = df2.columns.str.replace(\" \", \"\")\n",
    "dftest = pd.read_csv(\"data/BATADAL_test_dataset.csv\")"
   ]
  },
  {
   "cell_type": "code",
   "execution_count": 3,
   "metadata": {},
   "outputs": [],
   "source": [
    "## Add the right attack flags\n",
    "new_attack_df2 = df2[['DATETIME', 'ATT_FLAG']].copy().set_index(\"DATETIME\")\n",
    "new_attack_df2['ATT_FLAG'] = 0\n",
    "\n",
    "attack_points = [\n",
    "    [\"13/09/16 23\", \"16/09/16 00\"],\n",
    "    [\"26/09/16 11\", \"27/09/16 10\"],\n",
    "    [\"09/10/16 09\", \"11/10/16 20\"],\n",
    "    [\"29/10/16 19\", \"02/11/16 16\"],\n",
    "    [\"26/11/16 17\", \"29/11/16 04\"],\n",
    "    [\"06/12/16 07\", \"10/12/16 04\"],\n",
    "    [\"14/12/16 15\", \"19/12/16 04\"]\n",
    "]\n",
    "\n",
    "for attack_point in attack_points:\n",
    "    new_attack_df2.loc[attack_point[0]:attack_point[1], 'ATT_FLAG'] = 1\n",
    "    \n",
    "new_attack_df2.reset_index(inplace=True)\n",
    "\n",
    "new_attack_df_test = dftest[['DATETIME']].copy().set_index(\"DATETIME\")\n",
    "new_attack_df_test['ATT_FLAG'] = 0\n",
    "\n",
    "attack_points = [\n",
    "    [\"16/01/17 09\", \"19/01/17 06\"],\n",
    "    [\"30/01/17 08\", \"02/02/17 00\"],\n",
    "    [\"09/02/17 03\", \"10/02/17 09\"],\n",
    "    [\"12/02/17 01\", \"13/02/17 07\"],\n",
    "    [\"24/02/17 05\", \"28/02/17 08\"],\n",
    "    [\"10/03/17 14\", \"13/03/17 21\"],\n",
    "    [\"25/03/17 20\", \"27/03/17 01\"]\n",
    "]\n",
    "\n",
    "for attack_point in attack_points:\n",
    "    new_attack_df_test.loc[attack_point[0]:attack_point[1], 'ATT_FLAG'] = 1\n",
    "    \n",
    "new_attack_df_test.reset_index(inplace=True)\n",
    "\n",
    "df2['ATT_FLAG'] = new_attack_df2['ATT_FLAG']\n",
    "dftest['ATT_FLAG'] = new_attack_df_test['ATT_FLAG']"
   ]
  },
  {
   "cell_type": "code",
   "execution_count": 4,
   "metadata": {},
   "outputs": [],
   "source": [
    "def predict_ARMA(training_features, test_features):\n",
    "    ## Loading the target_model parameters\n",
    "    filename = \"target_models.obj\"\n",
    "    file_to_read = open(filename, 'rb')\n",
    "    target_models = pickle.load(file_to_read)\n",
    "    \n",
    "    warmup = 500\n",
    "    window_size = 1000\n",
    "    \n",
    "    window_width = 1000\n",
    "    data_streams =  training_features.loc[len(training_features):,which_columns].reset_index(drop=True)\n",
    "    params = target_models['params']\n",
    "\n",
    "    trained_models = []\n",
    "\n",
    "    predictions = pd.DataFrame(columns=which_columns)\n",
    "\n",
    "    for i in range(warmup, len(test_features), window_width): \n",
    "        ## Create the new models\n",
    "        data_streams = data_streams.append(target_df.loc[i:i+window_width-1, which_columns],ignore_index=True)\n",
    "        trained_models = []\n",
    "\n",
    "        new_predictions = pd.DataFrame(columns=which_columns)\n",
    "\n",
    "        if i < warmup:\n",
    "            continue\n",
    "\n",
    "        for column in which_columns:\n",
    "            try:\n",
    "                trained_model = pm.ARIMA(order=target_models.loc[column, 'order'], seasonal_order=(0,0,0,1), start_params=params[column], suppress_warnings=True)\n",
    "            except:\n",
    "                trained_model = pm.ARIMA(order=target_models.loc[column, 'order'], seasonal_order=(0,0,0,1), suppress_warnings=True)\n",
    "            trained_model.fit(data_streams[column])\n",
    "            trained_models.append(trained_model)\n",
    "            new_predictions[column] = trained_model.predict(window_width)\n",
    "\n",
    "        new_predictions.index = range(i+window_width,i+window_width+window_width)\n",
    "        predictions = predictions.append(new_predictions)\n",
    "    return predictions"
   ]
  },
  {
   "cell_type": "code",
   "execution_count": 51,
   "metadata": {},
   "outputs": [],
   "source": [
    "def discretize(original_signal, paa_size=3, window_size=2, amount_of_levels=3):\n",
    "    sax1 = sax_via_window(original_signal, window_size, paa_size, amount_of_levels)\n",
    "    indices = []\n",
    "    for k, v in sax1.items():\n",
    "        indices.extend(v)\n",
    "    indices.sort()\n",
    "    discrete_signal = pd.DataFrame(index=indices, columns=[\"word\"])\n",
    "    for k, v in sax1.items():\n",
    "        discrete_signal.loc[v] = k\n",
    "    return discrete_signal\n",
    "\n",
    "def get_trigram(discrete_signal):\n",
    "    ts_string = \" \".join(discrete_signal['word'])\n",
    "    tokens = nltk.word_tokenize(ts_string)\n",
    "    tri_tokens = trigrams(tokens)\n",
    "    tri_list = [tuple(trigram) for trigram in tri_tokens]\n",
    "    fdist = nltk.FreqDist(tri_list)\n",
    "    trigram_df = pd.DataFrame.from_dict(fdist,orient='index')\n",
    "    trigram_df_prob = trigram_df/trigram_df.sum()    \n",
    "    try:\n",
    "        return pd.Series(tri_list, index=discrete_signal.index[:-2]), trigram_df_prob[0]\n",
    "    except:\n",
    "        return None, None\n",
    "    \n",
    "def predict_Discrete(training_features, test_features):\n",
    "    target_columns = ['F_PU6', 'S_PU6', 'F_PU11', 'S_PU11', 'F_PU7', 'S_PU7', 'P_J302',\n",
    "       'P_J14', 'P_J307', 'L_T4', 'P_J317', 'L_T1', 'F_PU1', 'P_J269',\n",
    "       'F_PU10', 'F_V2', 'S_PU10', 'P_J422', 'S_PU2']\n",
    "        \n",
    "    paa_size=3\n",
    "    window_size=5\n",
    "    amount_of_levels=3\n",
    "    min_triggers = 3\n",
    "    trigger_is_0 = False\n",
    "\n",
    "    alert_sum = []\n",
    "    for target in target_columns:\n",
    "        dat1 = training_features[target].values\n",
    "        tris, triprob = get_trigram(discretize(dat1,paa_size,window_size,amount_of_levels))\n",
    "\n",
    "        dat2 = test_features[target].values\n",
    "        tris2, tris2prob = get_trigram(discretize(dat2,paa_size,window_size,amount_of_levels))\n",
    "\n",
    "        if (triprob is None) and (tris2prob is None):\n",
    "            continue\n",
    "        \n",
    "        if trigger_is_0:\n",
    "            threshold = 0\n",
    "        else: \n",
    "            threshold = min(triprob)\n",
    "        \n",
    "        if len(alert_sum) == 0:\n",
    "            results = (tris2.apply(lambda x: triprob.get(x, -1))<=threshold).astype(int)\n",
    "            alert_sum = results\n",
    "        else:\n",
    "            try:\n",
    "                results = (tris2.apply(lambda x: triprob.get(x, -1))<=threshold).astype(int)\n",
    "                alert_sum = alert_sum.add(results, fill_value=0)\n",
    "            except:\n",
    "                continue\n",
    "                \n",
    "    predictions = alert_sum >= min_triggers\n",
    "    predictions = predictions.reindex(range(max(predictions.index))).ffill()\n",
    "    return predictions"
   ]
  },
  {
   "cell_type": "code",
   "execution_count": 56,
   "metadata": {},
   "outputs": [],
   "source": [
    "def anomalyScores(originalDF, reducedDF):\n",
    "    loss = np.sum((np.array(originalDF)-np.array(reducedDF))**2, axis=1)\n",
    "    loss = pd.Series(data=loss,index=originalDF.index)\n",
    "    loss = (loss-np.min(loss))/(np.max(loss)-np.min(loss))\n",
    "    return loss\n",
    "\n",
    "def pcatest(n_components, traindata, testdata):\n",
    "    pca = PCA(n_components=n_components)\n",
    "\n",
    "    X_train_PCA = pca.fit_transform(traindata)\n",
    "    X_test_PCAd = pd.DataFrame(data=pca.transform(testdata), index=testdata.index)\n",
    "\n",
    "    X_test_PCAd_inverse = pca.inverse_transform(X_test_PCAd)\n",
    "    X_test_PCAd_inverse = pd.DataFrame(data=X_test_PCAd_inverse, index=testdata.index)\n",
    "    return X_test_PCAd_inverse,X_test_PCAd\n",
    "\n",
    "def predict_PCA(training_features, test_features):\n",
    "    n_components = 4\n",
    "    \n",
    "    X_test_PCAd_inverse, X_test_PCAd = pcatest(n_components,training_features,test_features)\n",
    "    anomalyScoresPCA = anomalyScores(test_features, X_test_PCAd_inverse)\n",
    "    \n",
    "    threshold = 0.3\n",
    "    return anomalyScoresPCA > threshold"
   ]
  },
  {
   "cell_type": "code",
   "execution_count": 62,
   "metadata": {},
   "outputs": [],
   "source": [
    "def print_stats(target_labels, predictions):\n",
    "    correct = target_labels.eq(predictions)\n",
    "\n",
    "    truePositives = sum(correct[target_labels==1])\n",
    "    trueNegatives = sum(correct[target_labels==0])\n",
    "    falsePositives = sum((~correct)[target_labels==0])\n",
    "    falseNegatives = sum((~correct)[target_labels==1])\n",
    "\n",
    "    print(\"Recall: \" + str(truePositives / (truePositives + falseNegatives)))\n",
    "    print(\"Precision: \" + str(truePositives / (truePositives + falsePositives)))\n",
    "    print(\"TP: \" + str(truePositives))\n",
    "    print(\"TN: \" + str(trueNegatives))\n",
    "    print(\"FP: \" + str(falsePositives))\n",
    "    print(\"FN: \" + str(falseNegatives))\n"
   ]
  },
  {
   "cell_type": "code",
   "execution_count": 63,
   "metadata": {},
   "outputs": [],
   "source": [
    "without_att_train_df = df2[df2[\"ATT_FLAG\"]==0].drop(columns=[\"DATETIME\", \"ATT_FLAG\"])\n",
    "train_df = df2.drop(columns=[\"DATETIME\", \"ATT_FLAG\"])\n",
    "\n",
    "test_df = dftest.drop(columns=[\"DATETIME\", \"ATT_FLAG\"])\n",
    "train_labels = df2['ATT_FLAG']\n",
    "test_labels = dftest['ATT_FLAG']"
   ]
  },
  {
   "cell_type": "code",
   "execution_count": 64,
   "metadata": {
    "scrolled": false
   },
   "outputs": [
    {
     "name": "stdout",
     "output_type": "stream",
     "text": [
      "Recall: 0.14250614250614252\n",
      "Precision: 1.0\n",
      "TP: 58\n",
      "TN: 1682\n",
      "FP: 0\n",
      "FN: 349\n"
     ]
    },
    {
     "data": {
      "text/plain": [
       "[Text(0.5, 1.0, 'PCA method predictions')]"
      ]
     },
     "execution_count": 64,
     "metadata": {},
     "output_type": "execute_result"
    },
    {
     "data": {
      "image/png": "[encoded data removed]",
      "text/plain": [
       "<Figure size 432x288 with 1 Axes>"
      ]
     },
     "metadata": {
      "needs_background": "light"
     },
     "output_type": "display_data"
    }
   ],
   "source": [
    "## PCA predictions\n",
    "PCA_predictions = predict_PCA(without_att_train_df, test_df)\n",
    "\n",
    "print_stats(test_labels, PCA_predictions)\n",
    "\n",
    "fig, ax = plt.subplots()\n",
    "sns.lineplot(data=PCA_predictions, ax=ax)\n",
    "sns.lineplot(data=test_labels*1.2, ax=ax)\n",
    "ax.legend([\"Prediction\", \"True attacks\"])\n",
    "ax.set(title=\"PCA method predictions\")"
   ]
  },
  {
   "cell_type": "code",
   "execution_count": 65,
   "metadata": {},
   "outputs": [
    {
     "name": "stdout",
     "output_type": "stream",
     "text": [
      "Couldn't do F_PU11\n",
      "Couldn't do S_PU11\n",
      "Recall: 0.22604422604422605\n",
      "Precision: 0.21149425287356322\n",
      "TP: 92\n",
      "TN: 1339\n",
      "FP: 343\n",
      "FN: 315\n"
     ]
    },
    {
     "data": {
      "text/plain": [
       "[Text(0.5, 1.0, 'PCA method predictions')]"
      ]
     },
     "execution_count": 65,
     "metadata": {},
     "output_type": "execute_result"
    },
    {
     "data": {
      "image/png": "[encoded data removed]",
      "text/plain": [
       "<Figure size 432x288 with 1 Axes>"
      ]
     },
     "metadata": {
      "needs_background": "light"
     },
     "output_type": "display_data"
    }
   ],
   "source": [
    "## Discrete predictions\n",
    "Discrete_predictions = predict_Discrete(without_att_train_df, test_df)\n",
    "\n",
    "print_stats(test_labels, Discrete_predictions)\n",
    "\n",
    "fig, ax = plt.subplots()\n",
    "sns.lineplot(data=Discrete_predictions, ax=ax)\n",
    "sns.lineplot(data=test_labels*1.2, ax=ax)\n",
    "ax.legend([\"Prediction\", \"True attacks\"])\n",
    "ax.set(title=\"PCA method predictions\")"
   ]
  },
  {
   "cell_type": "code",
   "execution_count": null,
   "metadata": {},
   "outputs": [],
   "source": []
  },
  {
   "cell_type": "code",
   "execution_count": null,
   "metadata": {},
   "outputs": [],
   "source": []
  }
 ],
 "metadata": {
  "kernelspec": {
   "display_name": "Python 3",
   "language": "python",
   "name": "python3"
  },
  "language_info": {
   "codemirror_mode": {
    "name": "ipython",
    "version": 3
   },
   "file_extension": ".py",
   "mimetype": "text/x-python",
   "name": "python",
   "nbconvert_exporter": "python",
   "pygments_lexer": "ipython3",
   "version": "3.7.3"
  }
 },
 "nbformat": 4,
 "nbformat_minor": 2
}
