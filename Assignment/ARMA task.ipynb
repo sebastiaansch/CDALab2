{
 "cells": [
  {
   "cell_type": "code",
   "execution_count": null,
   "metadata": {},
   "outputs": [],
   "source": [
    "!pip3 install pmdarima\n",
    "!pip3 install seaborn"
   ]
  },
  {
   "cell_type": "code",
   "execution_count": 70,
   "metadata": {},
   "outputs": [],
   "source": [
    "import pandas as pd\n",
    "import matplotlib.pyplot as plt\n",
    "import seaborn as sns\n",
    "import numpy as np\n",
    "from scipy import stats\n",
    "import statsmodels.api as sm\n",
    "from statsmodels.graphics.api import qqplot\n",
    "from pmdarima.arima import auto_arima\n",
    "import multiprocessing as mp\n",
    "\n",
    "sns.set(rc={'figure.figsize':(11.7,8.27)})\n",
    "\n",
    "## Reading the datasets\n",
    "\n",
    "df1 = pd.read_csv(\"data/BATADAL_dataset03.csv\")\n",
    "df2 = pd.read_csv(\"data/BATADAL_dataset04.csv\")\n",
    "df2.columns = df2.columns.str.replace(\" \", \"\")\n",
    "dftest = pd.read_csv(\"data/BATADAL_test_dataset.csv\")"
   ]
  },
  {
   "cell_type": "code",
   "execution_count": 10,
   "metadata": {
    "scrolled": true
   },
   "outputs": [
    {
     "name": "stdout",
     "output_type": "stream",
     "text": [
      "Currently trying to fit L_T1\n",
      "Currently trying to fit L_T3\n",
      "Currently trying to fit L_T2\n",
      "Currently trying to fit L_T4\n",
      "Currently trying to fit L_T5\n",
      "Currently trying to fit L_T6\n",
      "Currently trying to fit L_T7\n",
      "Currently trying to fit F_PU1\n",
      "Currently trying to fit S_PU1\n"
     ]
    },
    {
     "name": "stderr",
     "output_type": "stream",
     "text": [
      "/usr/local/lib/python3.7/dist-packages/pmdarima/arima/auto.py:253: UserWarning: Input time-series is completely constant; returning a (0, 0, 0) ARMA.\n",
      "  warnings.warn('Input time-series is completely constant; '\n"
     ]
    },
    {
     "name": "stdout",
     "output_type": "stream",
     "text": [
      "Currently trying to fit F_PU2\n",
      "Currently trying to fit S_PU2\n",
      "Currently trying to fit F_PU3\n"
     ]
    },
    {
     "name": "stderr",
     "output_type": "stream",
     "text": [
      "/usr/local/lib/python3.7/dist-packages/pmdarima/arima/auto.py:253: UserWarning: Input time-series is completely constant; returning a (0, 0, 0) ARMA.\n",
      "  warnings.warn('Input time-series is completely constant; '\n"
     ]
    },
    {
     "name": "stdout",
     "output_type": "stream",
     "text": [
      "Currently trying to fit S_PU3\n"
     ]
    },
    {
     "name": "stderr",
     "output_type": "stream",
     "text": [
      "/usr/local/lib/python3.7/dist-packages/pmdarima/arima/auto.py:253: UserWarning: Input time-series is completely constant; returning a (0, 0, 0) ARMA.\n",
      "  warnings.warn('Input time-series is completely constant; '\n"
     ]
    },
    {
     "name": "stdout",
     "output_type": "stream",
     "text": [
      "Currently trying to fit F_PU4\n",
      "Currently trying to fit S_PU4\n",
      "Currently trying to fit F_PU5\n"
     ]
    },
    {
     "name": "stderr",
     "output_type": "stream",
     "text": [
      "/usr/local/lib/python3.7/dist-packages/pmdarima/arima/auto.py:253: UserWarning: Input time-series is completely constant; returning a (0, 0, 0) ARMA.\n",
      "  warnings.warn('Input time-series is completely constant; '\n"
     ]
    },
    {
     "name": "stdout",
     "output_type": "stream",
     "text": [
      "Currently trying to fit S_PU5\n"
     ]
    },
    {
     "name": "stderr",
     "output_type": "stream",
     "text": [
      "/usr/local/lib/python3.7/dist-packages/pmdarima/arima/auto.py:253: UserWarning: Input time-series is completely constant; returning a (0, 0, 0) ARMA.\n",
      "  warnings.warn('Input time-series is completely constant; '\n"
     ]
    },
    {
     "name": "stdout",
     "output_type": "stream",
     "text": [
      "Currently trying to fit F_PU6\n",
      "Currently trying to fit S_PU6\n",
      "Currently trying to fit F_PU7\n",
      "Currently trying to fit S_PU7\n",
      "Currently trying to fit F_PU8\n",
      "Currently trying to fit S_PU8\n",
      "Currently trying to fit F_PU9\n"
     ]
    },
    {
     "name": "stderr",
     "output_type": "stream",
     "text": [
      "/usr/local/lib/python3.7/dist-packages/pmdarima/arima/auto.py:253: UserWarning: Input time-series is completely constant; returning a (0, 0, 0) ARMA.\n",
      "  warnings.warn('Input time-series is completely constant; '\n"
     ]
    },
    {
     "name": "stdout",
     "output_type": "stream",
     "text": [
      "Currently trying to fit S_PU9\n"
     ]
    },
    {
     "name": "stderr",
     "output_type": "stream",
     "text": [
      "/usr/local/lib/python3.7/dist-packages/pmdarima/arima/auto.py:253: UserWarning: Input time-series is completely constant; returning a (0, 0, 0) ARMA.\n",
      "  warnings.warn('Input time-series is completely constant; '\n"
     ]
    },
    {
     "name": "stdout",
     "output_type": "stream",
     "text": [
      "Currently trying to fit F_PU10\n",
      "Currently trying to fit S_PU10\n",
      "Currently trying to fit F_PU11\n",
      "Currently trying to fit S_PU11\n",
      "Currently trying to fit F_V2\n",
      "Currently trying to fit S_V2\n",
      "Currently trying to fit P_J280\n",
      "Currently trying to fit P_J269\n",
      "Currently trying to fit P_J300\n",
      "Currently trying to fit P_J256\n",
      "Currently trying to fit P_J289\n",
      "Currently trying to fit P_J415\n",
      "Currently trying to fit P_J302\n",
      "Currently trying to fit P_J306\n",
      "Currently trying to fit P_J307\n",
      "Currently trying to fit P_J317\n",
      "Currently trying to fit P_J14\n",
      "Currently trying to fit P_J422\n"
     ]
    }
   ],
   "source": [
    "## Trying to fit ARMA models on the training data\n",
    "\n",
    "target_sensors = df1.columns.tolist()\n",
    "target_sensors.remove(\"DATETIME\")\n",
    "target_sensors.remove(\"ATT_FLAG\")\n",
    "models = []\n",
    "\n",
    "def get_arima(sensor, series):\n",
    "    print(\"Currently trying to fit \" + sensor)\n",
    "    stepwise_fit = auto_arima(series, start_p=1, start_q=1, max_p=50, max_q=50,\n",
    "                          error_action='ignore',  # don't want to know if an order does not work\n",
    "                          suppress_warnings=True,  # don't want convergence warnings\n",
    "                          stepwise=True)  # set to stepwise\n",
    "    return (sensor, stepwise_fit)\n",
    "\n",
    "pool = mp.Pool(processes=4)\n",
    "models = [pool.apply_async(get_arima, args=(sensor, df1[sensor].values.copy(),)) for sensor in target_sensors]\n",
    "pool.close()  # do not accept any more tasks\n",
    "pool.join()  # wait for the completion of all scheduled jobs"
   ]
  },
  {
   "cell_type": "code",
   "execution_count": 11,
   "metadata": {},
   "outputs": [],
   "source": [
    "## Saving these models\n",
    "import pickle \n",
    "\n",
    "models_to_write = [model.get() for model in models]\n",
    "filename = \"ARMA_models.obj\"\n",
    "file_to_write = open(filename, 'wb')\n",
    "pickle.dump(models_to_write, file_to_write)"
   ]
  },
  {
   "cell_type": "code",
   "execution_count": 12,
   "metadata": {},
   "outputs": [],
   "source": [
    "## Load again and check the best fits\n",
    "\n",
    "file_to_read = open(filename, 'rb')\n",
    "models_read = pickle.load(file_to_read)"
   ]
  },
  {
   "cell_type": "code",
   "execution_count": 53,
   "metadata": {
    "scrolled": false
   },
   "outputs": [
    {
     "data": {
      "text/html": [
       "<div>\n",
       "<style scoped>\n",
       "    .dataframe tbody tr th:only-of-type {\n",
       "        vertical-align: middle;\n",
       "    }\n",
       "\n",
       "    .dataframe tbody tr th {\n",
       "        vertical-align: top;\n",
       "    }\n",
       "\n",
       "    .dataframe thead th {\n",
       "        text-align: right;\n",
       "    }\n",
       "</style>\n",
       "<table border=\"1\" class=\"dataframe\">\n",
       "  <thead>\n",
       "    <tr style=\"text-align: right;\">\n",
       "      <th></th>\n",
       "      <th>AIC</th>\n",
       "      <th>order</th>\n",
       "    </tr>\n",
       "  </thead>\n",
       "  <tbody>\n",
       "    <tr>\n",
       "      <th>P_J415</th>\n",
       "      <td>59276.1</td>\n",
       "      <td>(9, 0, 0)</td>\n",
       "    </tr>\n",
       "    <tr>\n",
       "      <th>L_T6</th>\n",
       "      <td>-12699</td>\n",
       "      <td>(7, 0, 3)</td>\n",
       "    </tr>\n",
       "    <tr>\n",
       "      <th>L_T7</th>\n",
       "      <td>14088.4</td>\n",
       "      <td>(5, 1, 5)</td>\n",
       "    </tr>\n",
       "    <tr>\n",
       "      <th>P_J306</th>\n",
       "      <td>57990.5</td>\n",
       "      <td>(5, 0, 5)</td>\n",
       "    </tr>\n",
       "    <tr>\n",
       "      <th>P_J302</th>\n",
       "      <td>45169</td>\n",
       "      <td>(5, 0, 5)</td>\n",
       "    </tr>\n",
       "    <tr>\n",
       "      <th>L_T4</th>\n",
       "      <td>8031.05</td>\n",
       "      <td>(5, 0, 5)</td>\n",
       "    </tr>\n",
       "    <tr>\n",
       "      <th>L_T5</th>\n",
       "      <td>-689.113</td>\n",
       "      <td>(5, 0, 5)</td>\n",
       "    </tr>\n",
       "    <tr>\n",
       "      <th>P_J269</th>\n",
       "      <td>40611</td>\n",
       "      <td>(5, 0, 5)</td>\n",
       "    </tr>\n",
       "    <tr>\n",
       "      <th>P_J307</th>\n",
       "      <td>45296</td>\n",
       "      <td>(5, 0, 5)</td>\n",
       "    </tr>\n",
       "    <tr>\n",
       "      <th>P_J317</th>\n",
       "      <td>52501.3</td>\n",
       "      <td>(5, 0, 4)</td>\n",
       "    </tr>\n",
       "    <tr>\n",
       "      <th>P_J300</th>\n",
       "      <td>32668.1</td>\n",
       "      <td>(5, 0, 4)</td>\n",
       "    </tr>\n",
       "    <tr>\n",
       "      <th>P_J280</th>\n",
       "      <td>-78191.2</td>\n",
       "      <td>(4, 0, 6)</td>\n",
       "    </tr>\n",
       "    <tr>\n",
       "      <th>L_T2</th>\n",
       "      <td>-1101.28</td>\n",
       "      <td>(4, 0, 3)</td>\n",
       "    </tr>\n",
       "    <tr>\n",
       "      <th>S_V2</th>\n",
       "      <td>-175.315</td>\n",
       "      <td>(3, 0, 7)</td>\n",
       "    </tr>\n",
       "    <tr>\n",
       "      <th>S_PU4</th>\n",
       "      <td>2185.72</td>\n",
       "      <td>(3, 0, 4)</td>\n",
       "    </tr>\n",
       "    <tr>\n",
       "      <th>F_PU4</th>\n",
       "      <td>64367.9</td>\n",
       "      <td>(3, 0, 4)</td>\n",
       "    </tr>\n",
       "    <tr>\n",
       "      <th>P_J256</th>\n",
       "      <td>51926.6</td>\n",
       "      <td>(3, 0, 4)</td>\n",
       "    </tr>\n",
       "    <tr>\n",
       "      <th>P_J289</th>\n",
       "      <td>32883.6</td>\n",
       "      <td>(3, 0, 3)</td>\n",
       "    </tr>\n",
       "    <tr>\n",
       "      <th>P_J422</th>\n",
       "      <td>32001.7</td>\n",
       "      <td>(3, 0, 3)</td>\n",
       "    </tr>\n",
       "    <tr>\n",
       "      <th>S_PU2</th>\n",
       "      <td>-4219.97</td>\n",
       "      <td>(2, 0, 8)</td>\n",
       "    </tr>\n",
       "    <tr>\n",
       "      <th>F_PU2</th>\n",
       "      <td>75266.2</td>\n",
       "      <td>(2, 0, 8)</td>\n",
       "    </tr>\n",
       "    <tr>\n",
       "      <th>F_V2</th>\n",
       "      <td>78855.1</td>\n",
       "      <td>(2, 0, 5)</td>\n",
       "    </tr>\n",
       "    <tr>\n",
       "      <th>F_PU1</th>\n",
       "      <td>51384</td>\n",
       "      <td>(2, 0, 5)</td>\n",
       "    </tr>\n",
       "    <tr>\n",
       "      <th>L_T3</th>\n",
       "      <td>-7863.57</td>\n",
       "      <td>(2, 0, 4)</td>\n",
       "    </tr>\n",
       "    <tr>\n",
       "      <th>L_T1</th>\n",
       "      <td>-13301.2</td>\n",
       "      <td>(2, 0, 3)</td>\n",
       "    </tr>\n",
       "    <tr>\n",
       "      <th>F_PU8</th>\n",
       "      <td>67891.6</td>\n",
       "      <td>(2, 0, 3)</td>\n",
       "    </tr>\n",
       "    <tr>\n",
       "      <th>S_PU8</th>\n",
       "      <td>5369.37</td>\n",
       "      <td>(2, 0, 3)</td>\n",
       "    </tr>\n",
       "    <tr>\n",
       "      <th>S_PU10</th>\n",
       "      <td>6835.22</td>\n",
       "      <td>(2, 0, 0)</td>\n",
       "    </tr>\n",
       "    <tr>\n",
       "      <th>F_PU10</th>\n",
       "      <td>66981.9</td>\n",
       "      <td>(2, 0, 0)</td>\n",
       "    </tr>\n",
       "    <tr>\n",
       "      <th>S_PU7</th>\n",
       "      <td>6101.2</td>\n",
       "      <td>(1, 0, 2)</td>\n",
       "    </tr>\n",
       "    <tr>\n",
       "      <th>F_PU7</th>\n",
       "      <td>74440.2</td>\n",
       "      <td>(1, 0, 2)</td>\n",
       "    </tr>\n",
       "    <tr>\n",
       "      <th>P_J14</th>\n",
       "      <td>41858.4</td>\n",
       "      <td>(1, 0, 1)</td>\n",
       "    </tr>\n",
       "    <tr>\n",
       "      <th>F_PU6</th>\n",
       "      <td>28583.9</td>\n",
       "      <td>(0, 0, 2)</td>\n",
       "    </tr>\n",
       "    <tr>\n",
       "      <th>S_PU6</th>\n",
       "      <td>-34533.1</td>\n",
       "      <td>(0, 0, 2)</td>\n",
       "    </tr>\n",
       "    <tr>\n",
       "      <th>S_PU11</th>\n",
       "      <td>-48586.6</td>\n",
       "      <td>(0, 0, 1)</td>\n",
       "    </tr>\n",
       "    <tr>\n",
       "      <th>F_PU11</th>\n",
       "      <td>7079.51</td>\n",
       "      <td>(0, 0, 1)</td>\n",
       "    </tr>\n",
       "    <tr>\n",
       "      <th>S_PU9</th>\n",
       "      <td>NaN</td>\n",
       "      <td>(0, 0, 0)</td>\n",
       "    </tr>\n",
       "    <tr>\n",
       "      <th>F_PU9</th>\n",
       "      <td>NaN</td>\n",
       "      <td>(0, 0, 0)</td>\n",
       "    </tr>\n",
       "    <tr>\n",
       "      <th>S_PU5</th>\n",
       "      <td>NaN</td>\n",
       "      <td>(0, 0, 0)</td>\n",
       "    </tr>\n",
       "    <tr>\n",
       "      <th>F_PU5</th>\n",
       "      <td>NaN</td>\n",
       "      <td>(0, 0, 0)</td>\n",
       "    </tr>\n",
       "    <tr>\n",
       "      <th>S_PU3</th>\n",
       "      <td>NaN</td>\n",
       "      <td>(0, 0, 0)</td>\n",
       "    </tr>\n",
       "    <tr>\n",
       "      <th>F_PU3</th>\n",
       "      <td>NaN</td>\n",
       "      <td>(0, 0, 0)</td>\n",
       "    </tr>\n",
       "    <tr>\n",
       "      <th>S_PU1</th>\n",
       "      <td>-540384</td>\n",
       "      <td>(0, 0, 0)</td>\n",
       "    </tr>\n",
       "  </tbody>\n",
       "</table>\n",
       "</div>"
      ],
      "text/plain": [
       "            AIC      order\n",
       "P_J415  59276.1  (9, 0, 0)\n",
       "L_T6     -12699  (7, 0, 3)\n",
       "L_T7    14088.4  (5, 1, 5)\n",
       "P_J306  57990.5  (5, 0, 5)\n",
       "P_J302    45169  (5, 0, 5)\n",
       "L_T4    8031.05  (5, 0, 5)\n",
       "L_T5   -689.113  (5, 0, 5)\n",
       "P_J269    40611  (5, 0, 5)\n",
       "P_J307    45296  (5, 0, 5)\n",
       "P_J317  52501.3  (5, 0, 4)\n",
       "P_J300  32668.1  (5, 0, 4)\n",
       "P_J280 -78191.2  (4, 0, 6)\n",
       "L_T2   -1101.28  (4, 0, 3)\n",
       "S_V2   -175.315  (3, 0, 7)\n",
       "S_PU4   2185.72  (3, 0, 4)\n",
       "F_PU4   64367.9  (3, 0, 4)\n",
       "P_J256  51926.6  (3, 0, 4)\n",
       "P_J289  32883.6  (3, 0, 3)\n",
       "P_J422  32001.7  (3, 0, 3)\n",
       "S_PU2  -4219.97  (2, 0, 8)\n",
       "F_PU2   75266.2  (2, 0, 8)\n",
       "F_V2    78855.1  (2, 0, 5)\n",
       "F_PU1     51384  (2, 0, 5)\n",
       "L_T3   -7863.57  (2, 0, 4)\n",
       "L_T1   -13301.2  (2, 0, 3)\n",
       "F_PU8   67891.6  (2, 0, 3)\n",
       "S_PU8   5369.37  (2, 0, 3)\n",
       "S_PU10  6835.22  (2, 0, 0)\n",
       "F_PU10  66981.9  (2, 0, 0)\n",
       "S_PU7    6101.2  (1, 0, 2)\n",
       "F_PU7   74440.2  (1, 0, 2)\n",
       "P_J14   41858.4  (1, 0, 1)\n",
       "F_PU6   28583.9  (0, 0, 2)\n",
       "S_PU6  -34533.1  (0, 0, 2)\n",
       "S_PU11 -48586.6  (0, 0, 1)\n",
       "F_PU11  7079.51  (0, 0, 1)\n",
       "S_PU9       NaN  (0, 0, 0)\n",
       "F_PU9       NaN  (0, 0, 0)\n",
       "S_PU5       NaN  (0, 0, 0)\n",
       "F_PU5       NaN  (0, 0, 0)\n",
       "S_PU3       NaN  (0, 0, 0)\n",
       "F_PU3       NaN  (0, 0, 0)\n",
       "S_PU1   -540384  (0, 0, 0)"
      ]
     },
     "execution_count": 53,
     "metadata": {},
     "output_type": "execute_result"
    }
   ],
   "source": [
    "aic_models = pd.DataFrame(columns=['AIC', 'order'])\n",
    "for model in models_read:\n",
    "    aic_models.loc[model[0], :]= np.array([model[1].aic(), model[1].order])\n",
    "\n",
    "aic_models.sort_values(by='order', ascending=False)"
   ]
  },
  {
   "cell_type": "code",
   "execution_count": 71,
   "metadata": {},
   "outputs": [
    {
     "data": {
      "text/plain": [
       "<matplotlib.axes._subplots.AxesSubplot at 0x7f5650d414e0>"
      ]
     },
     "execution_count": 71,
     "metadata": {},
     "output_type": "execute_result"
    },
    {
     "data": {
      "image/png": "[encoded data removed]",
      "text/plain": [
       "<Figure size 842.4x595.44 with 1 Axes>"
      ]
     },
     "metadata": {},
     "output_type": "display_data"
    }
   ],
   "source": [
    "fig, ax = plt.subplots()\n",
    "target = 'P_J280'\n",
    "attack = df2['ATT_FLAG'].copy()\n",
    "attack[attack > 0] = max(df2[target])\n",
    "attack[attack <= 0] = min(df2[target])\n",
    "sns.lineplot(data=attack,ax=ax)\n",
    "sns.lineplot(data=df2[target],ax=ax)\n"
   ]
  },
  {
   "cell_type": "code",
   "execution_count": null,
   "metadata": {},
   "outputs": [],
   "source": []
  },
  {
   "cell_type": "code",
   "execution_count": 66,
   "metadata": {},
   "outputs": [
    {
     "ename": "KeyError",
     "evalue": "' L_T1'",
     "output_type": "error",
     "traceback": [
      "\u001b[0;31m---------------------------------------------------------------------------\u001b[0m",
      "\u001b[0;31mKeyError\u001b[0m                                  Traceback (most recent call last)",
      "\u001b[0;32m/usr/local/lib/python3.7/dist-packages/pandas/core/indexes/base.py\u001b[0m in \u001b[0;36mget_loc\u001b[0;34m(self, key, method, tolerance)\u001b[0m\n\u001b[1;32m   2656\u001b[0m             \u001b[0;32mtry\u001b[0m\u001b[0;34m:\u001b[0m\u001b[0;34m\u001b[0m\u001b[0;34m\u001b[0m\u001b[0m\n\u001b[0;32m-> 2657\u001b[0;31m                 \u001b[0;32mreturn\u001b[0m \u001b[0mself\u001b[0m\u001b[0;34m.\u001b[0m\u001b[0m_engine\u001b[0m\u001b[0;34m.\u001b[0m\u001b[0mget_loc\u001b[0m\u001b[0;34m(\u001b[0m\u001b[0mkey\u001b[0m\u001b[0;34m)\u001b[0m\u001b[0;34m\u001b[0m\u001b[0;34m\u001b[0m\u001b[0m\n\u001b[0m\u001b[1;32m   2658\u001b[0m             \u001b[0;32mexcept\u001b[0m \u001b[0mKeyError\u001b[0m\u001b[0;34m:\u001b[0m\u001b[0;34m\u001b[0m\u001b[0;34m\u001b[0m\u001b[0m\n",
      "\u001b[0;32mpandas/_libs/index.pyx\u001b[0m in \u001b[0;36mpandas._libs.index.IndexEngine.get_loc\u001b[0;34m()\u001b[0m\n",
      "\u001b[0;32mpandas/_libs/index.pyx\u001b[0m in \u001b[0;36mpandas._libs.index.IndexEngine.get_loc\u001b[0;34m()\u001b[0m\n",
      "\u001b[0;32mpandas/_libs/hashtable_class_helper.pxi\u001b[0m in \u001b[0;36mpandas._libs.hashtable.PyObjectHashTable.get_item\u001b[0;34m()\u001b[0m\n",
      "\u001b[0;32mpandas/_libs/hashtable_class_helper.pxi\u001b[0m in \u001b[0;36mpandas._libs.hashtable.PyObjectHashTable.get_item\u001b[0;34m()\u001b[0m\n",
      "\u001b[0;31mKeyError\u001b[0m: ' L_T1'",
      "\nDuring handling of the above exception, another exception occurred:\n",
      "\u001b[0;31mKeyError\u001b[0m                                  Traceback (most recent call last)",
      "\u001b[0;32m<ipython-input-66-3b941c8e1c70>\u001b[0m in \u001b[0;36m<module>\u001b[0;34m\u001b[0m\n\u001b[1;32m      1\u001b[0m \u001b[0mpredictions\u001b[0m \u001b[0;34m=\u001b[0m \u001b[0mstepwise_fit\u001b[0m\u001b[0;34m.\u001b[0m\u001b[0mpredict_in_sample\u001b[0m\u001b[0;34m(\u001b[0m\u001b[0;34m)\u001b[0m\u001b[0;34m\u001b[0m\u001b[0;34m\u001b[0m\u001b[0m\n\u001b[0;32m----> 2\u001b[0;31m \u001b[0mtrue_data\u001b[0m \u001b[0;34m=\u001b[0m \u001b[0mdf2\u001b[0m\u001b[0;34m[\u001b[0m\u001b[0;34m' L_T1'\u001b[0m\u001b[0;34m]\u001b[0m\u001b[0;34m\u001b[0m\u001b[0;34m\u001b[0m\u001b[0m\n\u001b[0m\u001b[1;32m      3\u001b[0m \u001b[0;34m\u001b[0m\u001b[0m\n\u001b[1;32m      4\u001b[0m \u001b[0mfig\u001b[0m\u001b[0;34m,\u001b[0m \u001b[0max\u001b[0m \u001b[0;34m=\u001b[0m \u001b[0mplt\u001b[0m\u001b[0;34m.\u001b[0m\u001b[0msubplots\u001b[0m\u001b[0;34m(\u001b[0m\u001b[0;34m)\u001b[0m\u001b[0;34m\u001b[0m\u001b[0;34m\u001b[0m\u001b[0m\n\u001b[1;32m      5\u001b[0m \u001b[0msns\u001b[0m\u001b[0;34m.\u001b[0m\u001b[0mlineplot\u001b[0m\u001b[0;34m(\u001b[0m\u001b[0mdata\u001b[0m\u001b[0;34m=\u001b[0m\u001b[0mpredictions\u001b[0m\u001b[0;34m[\u001b[0m\u001b[0;36m0\u001b[0m\u001b[0;34m:\u001b[0m\u001b[0;36m1000\u001b[0m\u001b[0;34m]\u001b[0m\u001b[0;34m,\u001b[0m \u001b[0max\u001b[0m\u001b[0;34m=\u001b[0m\u001b[0max\u001b[0m\u001b[0;34m,\u001b[0m \u001b[0mcolor\u001b[0m\u001b[0;34m=\u001b[0m\u001b[0;34m'b'\u001b[0m\u001b[0;34m)\u001b[0m\u001b[0;34m\u001b[0m\u001b[0;34m\u001b[0m\u001b[0m\n",
      "\u001b[0;32m/usr/local/lib/python3.7/dist-packages/pandas/core/frame.py\u001b[0m in \u001b[0;36m__getitem__\u001b[0;34m(self, key)\u001b[0m\n\u001b[1;32m   2925\u001b[0m             \u001b[0;32mif\u001b[0m \u001b[0mself\u001b[0m\u001b[0;34m.\u001b[0m\u001b[0mcolumns\u001b[0m\u001b[0;34m.\u001b[0m\u001b[0mnlevels\u001b[0m \u001b[0;34m>\u001b[0m \u001b[0;36m1\u001b[0m\u001b[0;34m:\u001b[0m\u001b[0;34m\u001b[0m\u001b[0;34m\u001b[0m\u001b[0m\n\u001b[1;32m   2926\u001b[0m                 \u001b[0;32mreturn\u001b[0m \u001b[0mself\u001b[0m\u001b[0;34m.\u001b[0m\u001b[0m_getitem_multilevel\u001b[0m\u001b[0;34m(\u001b[0m\u001b[0mkey\u001b[0m\u001b[0;34m)\u001b[0m\u001b[0;34m\u001b[0m\u001b[0;34m\u001b[0m\u001b[0m\n\u001b[0;32m-> 2927\u001b[0;31m             \u001b[0mindexer\u001b[0m \u001b[0;34m=\u001b[0m \u001b[0mself\u001b[0m\u001b[0;34m.\u001b[0m\u001b[0mcolumns\u001b[0m\u001b[0;34m.\u001b[0m\u001b[0mget_loc\u001b[0m\u001b[0;34m(\u001b[0m\u001b[0mkey\u001b[0m\u001b[0;34m)\u001b[0m\u001b[0;34m\u001b[0m\u001b[0;34m\u001b[0m\u001b[0m\n\u001b[0m\u001b[1;32m   2928\u001b[0m             \u001b[0;32mif\u001b[0m \u001b[0mis_integer\u001b[0m\u001b[0;34m(\u001b[0m\u001b[0mindexer\u001b[0m\u001b[0;34m)\u001b[0m\u001b[0;34m:\u001b[0m\u001b[0;34m\u001b[0m\u001b[0;34m\u001b[0m\u001b[0m\n\u001b[1;32m   2929\u001b[0m                 \u001b[0mindexer\u001b[0m \u001b[0;34m=\u001b[0m \u001b[0;34m[\u001b[0m\u001b[0mindexer\u001b[0m\u001b[0;34m]\u001b[0m\u001b[0;34m\u001b[0m\u001b[0;34m\u001b[0m\u001b[0m\n",
      "\u001b[0;32m/usr/local/lib/python3.7/dist-packages/pandas/core/indexes/base.py\u001b[0m in \u001b[0;36mget_loc\u001b[0;34m(self, key, method, tolerance)\u001b[0m\n\u001b[1;32m   2657\u001b[0m                 \u001b[0;32mreturn\u001b[0m \u001b[0mself\u001b[0m\u001b[0;34m.\u001b[0m\u001b[0m_engine\u001b[0m\u001b[0;34m.\u001b[0m\u001b[0mget_loc\u001b[0m\u001b[0;34m(\u001b[0m\u001b[0mkey\u001b[0m\u001b[0;34m)\u001b[0m\u001b[0;34m\u001b[0m\u001b[0;34m\u001b[0m\u001b[0m\n\u001b[1;32m   2658\u001b[0m             \u001b[0;32mexcept\u001b[0m \u001b[0mKeyError\u001b[0m\u001b[0;34m:\u001b[0m\u001b[0;34m\u001b[0m\u001b[0;34m\u001b[0m\u001b[0m\n\u001b[0;32m-> 2659\u001b[0;31m                 \u001b[0;32mreturn\u001b[0m \u001b[0mself\u001b[0m\u001b[0;34m.\u001b[0m\u001b[0m_engine\u001b[0m\u001b[0;34m.\u001b[0m\u001b[0mget_loc\u001b[0m\u001b[0;34m(\u001b[0m\u001b[0mself\u001b[0m\u001b[0;34m.\u001b[0m\u001b[0m_maybe_cast_indexer\u001b[0m\u001b[0;34m(\u001b[0m\u001b[0mkey\u001b[0m\u001b[0;34m)\u001b[0m\u001b[0;34m)\u001b[0m\u001b[0;34m\u001b[0m\u001b[0;34m\u001b[0m\u001b[0m\n\u001b[0m\u001b[1;32m   2660\u001b[0m         \u001b[0mindexer\u001b[0m \u001b[0;34m=\u001b[0m \u001b[0mself\u001b[0m\u001b[0;34m.\u001b[0m\u001b[0mget_indexer\u001b[0m\u001b[0;34m(\u001b[0m\u001b[0;34m[\u001b[0m\u001b[0mkey\u001b[0m\u001b[0;34m]\u001b[0m\u001b[0;34m,\u001b[0m \u001b[0mmethod\u001b[0m\u001b[0;34m=\u001b[0m\u001b[0mmethod\u001b[0m\u001b[0;34m,\u001b[0m \u001b[0mtolerance\u001b[0m\u001b[0;34m=\u001b[0m\u001b[0mtolerance\u001b[0m\u001b[0;34m)\u001b[0m\u001b[0;34m\u001b[0m\u001b[0;34m\u001b[0m\u001b[0m\n\u001b[1;32m   2661\u001b[0m         \u001b[0;32mif\u001b[0m \u001b[0mindexer\u001b[0m\u001b[0;34m.\u001b[0m\u001b[0mndim\u001b[0m \u001b[0;34m>\u001b[0m \u001b[0;36m1\u001b[0m \u001b[0;32mor\u001b[0m \u001b[0mindexer\u001b[0m\u001b[0;34m.\u001b[0m\u001b[0msize\u001b[0m \u001b[0;34m>\u001b[0m \u001b[0;36m1\u001b[0m\u001b[0;34m:\u001b[0m\u001b[0;34m\u001b[0m\u001b[0;34m\u001b[0m\u001b[0m\n",
      "\u001b[0;32mpandas/_libs/index.pyx\u001b[0m in \u001b[0;36mpandas._libs.index.IndexEngine.get_loc\u001b[0;34m()\u001b[0m\n",
      "\u001b[0;32mpandas/_libs/index.pyx\u001b[0m in \u001b[0;36mpandas._libs.index.IndexEngine.get_loc\u001b[0;34m()\u001b[0m\n",
      "\u001b[0;32mpandas/_libs/hashtable_class_helper.pxi\u001b[0m in \u001b[0;36mpandas._libs.hashtable.PyObjectHashTable.get_item\u001b[0;34m()\u001b[0m\n",
      "\u001b[0;32mpandas/_libs/hashtable_class_helper.pxi\u001b[0m in \u001b[0;36mpandas._libs.hashtable.PyObjectHashTable.get_item\u001b[0;34m()\u001b[0m\n",
      "\u001b[0;31mKeyError\u001b[0m: ' L_T1'"
     ]
    }
   ],
   "source": [
    "## Show example predictions\n",
    "\n",
    "predictions = stepwise_fit.predict_in_sample()\n",
    "true_data = df2[' L_T1']\n",
    "\n",
    "fig, ax = plt.subplots()\n",
    "sns.lineplot(data=predictions[0:1000], ax=ax, color='b')\n",
    "sns.lineplot(data=true_data[0:1000], ax=ax, color='r')"
   ]
  },
  {
   "cell_type": "code",
   "execution_count": null,
   "metadata": {},
   "outputs": [],
   "source": [
    "## Set a threshold for anomalies and see if there are any\n",
    "\n",
    "df2.loc[abs(predictions - true_data) > 0.5, [' DATETIME', ' ATT_FLAG']]"
   ]
  },
  {
   "cell_type": "code",
   "execution_count": null,
   "metadata": {},
   "outputs": [],
   "source": []
  }
 ],
 "metadata": {
  "kernelspec": {
   "display_name": "Python 3",
   "language": "python",
   "name": "python3"
  },
  "language_info": {
   "codemirror_mode": {
    "name": "ipython",
    "version": 3
   },
   "file_extension": ".py",
   "mimetype": "text/x-python",
   "name": "python",
   "nbconvert_exporter": "python",
   "pygments_lexer": "ipython3",
   "version": "3.7.3"
  }
 },
 "nbformat": 4,
 "nbformat_minor": 2
}
